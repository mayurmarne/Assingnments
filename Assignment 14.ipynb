{
 "cells": [
  {
   "cell_type": "markdown",
   "id": "30f253a2",
   "metadata": {},
   "source": [
    "## 1. What does RGBA stand for?\n",
    "## Ans:\n",
    "An RGBA value is a tuple of 4 integers, each ranging from 0 to 255. The four integers correspond to the amount of red, green, blue, and alpha (transparency) in the color.\n",
    "\n",
    "## 2. From the Pillow module, how do you get the RGBA value of any images?\n",
    "### Ans:\n",
    "A function call to ImageColor.getcolor('CornflowerBlue', 'RGBA') will return (100, 149, 237, 255), the RGBA value for that color.\n",
    "\n",
    "## 3. What is a box tuple, and how does it work?\n",
    "### Ans:\n",
    "A box tuple is a tuple value of four integers: the left-edge x-coordinate, the top-edge y-coordinate, the width, and the height, respectively.\n",
    "\n",
    "## 4. Use your image and load in notebook then, How can you find out the width and height of an Image object?\n",
    "### Ans:\n",
    "imageObj.size is a tuple of two integers, the width and the height.\n",
    "\n",
    "## 5. What method would you call to get Image object for a 100×100 image, excluding the lower-left quarter of it?\n",
    "### Ans:\n",
    "imageObj.crop((0, 50, 50, 50)). Notice that you are passing a box tuple to crop(), not four separate integer arguments.\n",
    "\n",
    "## 6. After making changes to an Image object, how could you save it as an image file?\n",
    "### Ans:\n",
    "Call the imageObj.save('new_filename.png') method of the Image object.\n",
    "\n",
    "## 7. What module contains Pillow’s shape-drawing code?\n",
    "### Ans:\n",
    "The ImageDraw module contains code to draw on images.\n",
    "\n",
    "## 8. Image objects do not have drawing methods. What kind of object does? How do you get this kind of object?\n",
    "### Ans:\n",
    "ImageDraw objects have shape-drawing methods such as point(), line(), or rectangle(). They are returned by passing the Image object to the ImageDraw.Draw() function."
   ]
  },
  {
   "cell_type": "code",
   "execution_count": null,
   "id": "71043cb6",
   "metadata": {},
   "outputs": [],
   "source": []
  }
 ],
 "metadata": {
  "kernelspec": {
   "display_name": "Python 3 (ipykernel)",
   "language": "python",
   "name": "python3"
  },
  "language_info": {
   "codemirror_mode": {
    "name": "ipython",
    "version": 3
   },
   "file_extension": ".py",
   "mimetype": "text/x-python",
   "name": "python",
   "nbconvert_exporter": "python",
   "pygments_lexer": "ipython3",
   "version": "3.9.13"
  }
 },
 "nbformat": 4,
 "nbformat_minor": 5
}
