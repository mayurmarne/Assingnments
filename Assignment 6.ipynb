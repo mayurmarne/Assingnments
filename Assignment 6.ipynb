{
 "cells": [
  {
   "cell_type": "markdown",
   "id": "eaf02fb8",
   "metadata": {},
   "source": [
    "## 1. What are escape characters, and how do you use them?\n",
    "### Ans:\n",
    "In Python strings, the backslash \"\\\" is a special character, also called the \"escape\" character. It is used in representing certain whitespace characters: \"\\t\" is a tab, \"\\n\" is a newline, and \"\\r\" is a carriage return\n",
    "\n",
    "prefixing a special character with \"\\\" turns it into an ordinary character. This is called \"escaping\". For example, \"\\'\" is the single quote character. 'It\\'s Sunday' therefore is a valid string and equivalent to \"It's Sunday\". Likewise, '\"' can be escaped: \"\\\"hello\\\"\" is a string begins and ends with the literal double quote character. Finally, \"\\\" can be used to escape itself: \"\\\\\" is the literal backslash character.\n"
   ]
  },
  {
   "cell_type": "code",
   "execution_count": 1,
   "id": "c9d76eab",
   "metadata": {},
   "outputs": [
    {
     "name": "stdout",
     "output_type": "stream",
     "text": [
      "it's Sunday\n",
      "it's Sunday\n"
     ]
    }
   ],
   "source": [
    "print(\"it's Sunday\")\n",
    "print('it\\'s Sunday')"
   ]
  },
  {
   "cell_type": "markdown",
   "id": "4c77b721",
   "metadata": {},
   "source": [
    "## 2. What do the escape characters n and t stand for?\n",
    "### Ans:\n",
    "\"\\t\" is a tab, \"\\n\" is a newline\n",
    "\n",
    "## 3. What is the way to include backslash characters in a string?\n",
    "### Ans:\n",
    "print('its a back slash \\\\ in a sentence')"
   ]
  },
  {
   "cell_type": "code",
   "execution_count": 2,
   "id": "23809572",
   "metadata": {},
   "outputs": [
    {
     "name": "stdout",
     "output_type": "stream",
     "text": [
      "its a back slash \\ in a sentence\n"
     ]
    }
   ],
   "source": [
    "print('its a back slash \\\\ in a sentence')"
   ]
  },
  {
   "cell_type": "markdown",
   "id": "22ce416b",
   "metadata": {},
   "source": [
    "## 4. The string \"Howl's Moving Castle\" is a correct value. Why isn't the single quote character in the word Howl's not escaped a problem?\n",
    "### Ans\n",
    "The single quote in Howl's is fine because you've used double quotes to mark the beginning and end of the string. \n",
    "\n",
    "like wise we can use double quotes in with single quotes."
   ]
  },
  {
   "cell_type": "code",
   "execution_count": 3,
   "id": "29b8f0b1",
   "metadata": {},
   "outputs": [
    {
     "name": "stdout",
     "output_type": "stream",
     "text": [
      "HowI's Moving Castle\n"
     ]
    }
   ],
   "source": [
    "print(\"HowI's Moving Castle\")"
   ]
  },
  {
   "cell_type": "markdown",
   "id": "f5c30e1c",
   "metadata": {},
   "source": [
    "## 5. How do you write a string of newlines if you don't want to use the n character?\n",
    "### Ans:\n",
    "we can use the parameter end ='\\n' in print function"
   ]
  },
  {
   "cell_type": "code",
   "execution_count": 4,
   "id": "51a2e1a7",
   "metadata": {},
   "outputs": [
    {
     "name": "stdout",
     "output_type": "stream",
     "text": [
      "printing something in multiple lines\n",
      "newline\n"
     ]
    }
   ],
   "source": [
    "print(\"printing something in multiple lines\",end = '\\n')\n",
    "print(\"newline\")"
   ]
  },
  {
   "cell_type": "markdown",
   "id": "c391130d",
   "metadata": {},
   "source": [
    "## 6. What are the values of the given expressions?\n",
    "'Hello, world!'[1] - > e\n",
    "\n",
    "'Hello, world!'[0:5] -> 'Hello\n",
    "\n",
    "'Hello, world!'[:5] -> Hello\n",
    "\n",
    "'Hello, world!'[3:] -> lo, world\n",
    "## Ans:"
   ]
  },
  {
   "cell_type": "code",
   "execution_count": 6,
   "id": "31ed0bb6",
   "metadata": {},
   "outputs": [
    {
     "data": {
      "text/plain": [
       "'e'"
      ]
     },
     "execution_count": 6,
     "metadata": {},
     "output_type": "execute_result"
    }
   ],
   "source": [
    "'Hello, world!'[1]"
   ]
  },
  {
   "cell_type": "code",
   "execution_count": 7,
   "id": "5387addb",
   "metadata": {},
   "outputs": [
    {
     "data": {
      "text/plain": [
       "'Hello'"
      ]
     },
     "execution_count": 7,
     "metadata": {},
     "output_type": "execute_result"
    }
   ],
   "source": [
    "'Hello, world!'[0:5] "
   ]
  },
  {
   "cell_type": "code",
   "execution_count": 8,
   "id": "3f07cc73",
   "metadata": {},
   "outputs": [
    {
     "data": {
      "text/plain": [
       "'Hello'"
      ]
     },
     "execution_count": 8,
     "metadata": {},
     "output_type": "execute_result"
    }
   ],
   "source": [
    "'Hello, world!'[:5] "
   ]
  },
  {
   "cell_type": "code",
   "execution_count": 9,
   "id": "ec40b9ca",
   "metadata": {},
   "outputs": [
    {
     "data": {
      "text/plain": [
       "'lo, world!'"
      ]
     },
     "execution_count": 9,
     "metadata": {},
     "output_type": "execute_result"
    }
   ],
   "source": [
    "'Hello, world!'[3:] "
   ]
  },
  {
   "cell_type": "markdown",
   "id": "09ceb7bf",
   "metadata": {},
   "source": [
    "## 7. What are the values of the following expressions?\n",
    "'Hello'.upper() - > HELLO\n",
    "\n",
    "'Hello'.upper().isupper() -> True\n",
    "\n",
    "'Hello'.upper().lower() -> hello\n",
    "## Ans:"
   ]
  },
  {
   "cell_type": "code",
   "execution_count": 10,
   "id": "b9ec5a90",
   "metadata": {},
   "outputs": [
    {
     "data": {
      "text/plain": [
       "'HELLO'"
      ]
     },
     "execution_count": 10,
     "metadata": {},
     "output_type": "execute_result"
    }
   ],
   "source": [
    "'Hello'.upper()'Hello'.upper().isupper()"
   ]
  },
  {
   "cell_type": "code",
   "execution_count": 11,
   "id": "1791ebfb",
   "metadata": {},
   "outputs": [
    {
     "data": {
      "text/plain": [
       "True"
      ]
     },
     "execution_count": 11,
     "metadata": {},
     "output_type": "execute_result"
    }
   ],
   "source": [
    "'Hello'.upper().isupper()"
   ]
  },
  {
   "cell_type": "code",
   "execution_count": 12,
   "id": "ba341251",
   "metadata": {},
   "outputs": [
    {
     "data": {
      "text/plain": [
       "'hello'"
      ]
     },
     "execution_count": 12,
     "metadata": {},
     "output_type": "execute_result"
    }
   ],
   "source": [
    "'Hello'.upper().lower() "
   ]
  },
  {
   "cell_type": "markdown",
   "id": "5898be8b",
   "metadata": {},
   "source": [
    "## 8. What are the values of the following expressions?\n",
    "'Remember, remember, the fifth of July.'.split() -> splits with space and returns list of words\n",
    "\n",
    "'-'.join('There can only one.'.split()) splits with space and join with '_'\n",
    "## Ans:"
   ]
  },
  {
   "cell_type": "code",
   "execution_count": 13,
   "id": "79f7d299",
   "metadata": {},
   "outputs": [
    {
     "data": {
      "text/plain": [
       "['Remember,', 'remember,', 'the', 'fifth', 'of', 'July.']"
      ]
     },
     "execution_count": 13,
     "metadata": {},
     "output_type": "execute_result"
    }
   ],
   "source": [
    "'Remember, remember, the fifth of July.'.split() "
   ]
  },
  {
   "cell_type": "code",
   "execution_count": 14,
   "id": "4d7bbaa8",
   "metadata": {},
   "outputs": [
    {
     "data": {
      "text/plain": [
       "'There-can-only-one.'"
      ]
     },
     "execution_count": 14,
     "metadata": {},
     "output_type": "execute_result"
    }
   ],
   "source": [
    "'-'.join('There can only one.'.split())"
   ]
  },
  {
   "cell_type": "markdown",
   "id": "a13781d3",
   "metadata": {},
   "source": [
    "## 9. What are the methods for right-justifying, left-justifying, and centering a string?\n",
    "The following methods are used for justifying strings\n",
    "\n",
    "ljust()\n",
    "\n",
    "rjust()\n",
    "\n",
    "center()\n",
    "### Ans:"
   ]
  },
  {
   "cell_type": "code",
   "execution_count": 15,
   "id": "cd3d8fae",
   "metadata": {},
   "outputs": [
    {
     "data": {
      "text/plain": [
       "'Hello-----'"
      ]
     },
     "execution_count": 15,
     "metadata": {},
     "output_type": "execute_result"
    }
   ],
   "source": [
    "str =\"Hello\"\n",
    "str.ljust(10,\"-\")"
   ]
  },
  {
   "cell_type": "code",
   "execution_count": 16,
   "id": "e55a7542",
   "metadata": {},
   "outputs": [
    {
     "data": {
      "text/plain": [
       "'*****************************How are you'"
      ]
     },
     "execution_count": 16,
     "metadata": {},
     "output_type": "execute_result"
    }
   ],
   "source": [
    "str =\"How are you\"\n",
    "str.rjust(40,'*')"
   ]
  },
  {
   "cell_type": "code",
   "execution_count": 18,
   "id": "12d1e5ba",
   "metadata": {},
   "outputs": [
    {
     "data": {
      "text/plain": [
       "'**************How are you***************'"
      ]
     },
     "execution_count": 18,
     "metadata": {},
     "output_type": "execute_result"
    }
   ],
   "source": [
    "str =\"How are you\"\n",
    "str.center(40,'*')"
   ]
  },
  {
   "cell_type": "markdown",
   "id": "81f910ff",
   "metadata": {},
   "source": [
    "## 10. What is the best way to remove whitespace characters from the start or end?\n",
    "lstrip() -> removes white spaces from left of the string\n",
    "\n",
    "rstrip() -> removes whitespaces from right of the string\n",
    "### Ans:"
   ]
  },
  {
   "cell_type": "code",
   "execution_count": 19,
   "id": "63189435",
   "metadata": {},
   "outputs": [
    {
     "data": {
      "text/plain": [
       "'hkjhjdfhjd jkhjhd  '"
      ]
     },
     "execution_count": 19,
     "metadata": {},
     "output_type": "execute_result"
    }
   ],
   "source": [
    "str =\"  hkjhjdfhjd jkhjhd  \"\n",
    "str.lstrip()"
   ]
  },
  {
   "cell_type": "code",
   "execution_count": 20,
   "id": "57b10dd5",
   "metadata": {},
   "outputs": [
    {
     "data": {
      "text/plain": [
       "'  hkjhjdfhjd jkhjhd'"
      ]
     },
     "execution_count": 20,
     "metadata": {},
     "output_type": "execute_result"
    }
   ],
   "source": [
    "str =\"  hkjhjdfhjd jkhjhd  \"\n",
    "str.rstrip()"
   ]
  },
  {
   "cell_type": "code",
   "execution_count": null,
   "id": "a7abfb5a",
   "metadata": {},
   "outputs": [],
   "source": []
  }
 ],
 "metadata": {
  "kernelspec": {
   "display_name": "Python 3 (ipykernel)",
   "language": "python",
   "name": "python3"
  },
  "language_info": {
   "codemirror_mode": {
    "name": "ipython",
    "version": 3
   },
   "file_extension": ".py",
   "mimetype": "text/x-python",
   "name": "python",
   "nbconvert_exporter": "python",
   "pygments_lexer": "ipython3",
   "version": "3.9.13"
  }
 },
 "nbformat": 4,
 "nbformat_minor": 5
}
