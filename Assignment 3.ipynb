{
 "cells": [
  {
   "cell_type": "markdown",
   "id": "67e4d418",
   "metadata": {},
   "source": [
    "## 1. Why are functions advantageous to have in your programs?\n",
    "### Ans: \n",
    " 1. This makes programs shorter, easier to read, and easier to update\n",
    " 2. Functions reduce the need for duplicate code."
   ]
  },
  {
   "cell_type": "markdown",
   "id": "9719ff74",
   "metadata": {},
   "source": [
    "## 2. When does the code in a function run: when it's specified or when it's called?\n",
    "### Ans :\n",
    "The code in a function executes when the function is called, not when the function is defined."
   ]
  },
  {
   "cell_type": "markdown",
   "id": "7f57f485",
   "metadata": {},
   "source": [
    "## 3. What statement creates a function?\n",
    "### Ans :\n",
    "\n",
    "The def statement defines a function."
   ]
  },
  {
   "cell_type": "markdown",
   "id": "e5fd91ee",
   "metadata": {},
   "source": [
    "## 4. What is the difference between a function and a function call?\n",
    "### Ans :\n",
    "A function is a code which enhanced the reusability and modularity of your program. It means that  code need not be written again.\n",
    "A function call means  calling that function. Unless a function is called there is no use of that function."
   ]
  },
  {
   "cell_type": "markdown",
   "id": "43e012e4",
   "metadata": {},
   "source": [
    "## 5. How many global scopes are there in a Python program? How many local scopes?\n",
    "### Ans :\n",
    "There is one global scope, and a local scope is created whenever a function is called."
   ]
  },
  {
   "cell_type": "markdown",
   "id": "9610b918",
   "metadata": {},
   "source": [
    "## 6. What happens to variables in a local scope when the function call returns?\n",
    "### Ans:\n",
    "When a function returns, the local scope is destroyed, and all the variables in it are forgotten.\n",
    "\n",
    "## 7. What is the concept of a return value? Is it possible to have a return value in an expression?\n",
    "### Ans:\n",
    "A return value is the value that a function call evaluates to. Like any value, a return value can be used as part of an expression.\n",
    "\n",
    "## 8. If a function does not have a return statement, what is the return value of a call to that function?\n",
    "### Ans:\n",
    "If there is no return statement for a function, its return value is None.\n",
    "\n",
    "## 9. How do you make a function variable refer to the global variable?\n",
    "### Ans:\n",
    "A global statement will force a variable in a function to refer to the global variable."
   ]
  },
  {
   "cell_type": "markdown",
   "id": "24a73d62",
   "metadata": {},
   "source": [
    "## 10. What is the data type of None?\n",
    "### Ans:\n",
    "The data type of None is NoneType.\n",
    "\n",
    "## 11. What does the sentence import areallyourpetsnamederic do?\n",
    "## Ans :\n",
    "That import statement imports a module named areallyourpetsnamederic.\n",
    "\n",
    "## 12. If you had a bacon() feature in a spam module, what would you call it after importing spam?\n",
    "### Ans :\n",
    "This function can be called with spam.bacon().\n",
    "\n",
    "## 13. What can you do to save a programme from crashing if it encounters an error?\n",
    "### Ans:\n",
    "Place the line of code that might cause an error in a try clause.\n",
    "\n",
    "## 14. What is the purpose of the try clause? What is the purpose of the except clause?\n",
    "### Ans:\n",
    "The code that could potentially cause an error goes in the try clause.\n",
    "\n",
    "The code that executes if an error happens goes in the except clause."
   ]
  },
  {
   "cell_type": "code",
   "execution_count": null,
   "id": "4e426dd2",
   "metadata": {},
   "outputs": [],
   "source": []
  }
 ],
 "metadata": {
  "kernelspec": {
   "display_name": "Python 3 (ipykernel)",
   "language": "python",
   "name": "python3"
  },
  "language_info": {
   "codemirror_mode": {
    "name": "ipython",
    "version": 3
   },
   "file_extension": ".py",
   "mimetype": "text/x-python",
   "name": "python",
   "nbconvert_exporter": "python",
   "pygments_lexer": "ipython3",
   "version": "3.9.13"
  }
 },
 "nbformat": 4,
 "nbformat_minor": 5
}
