{
 "cells": [
  {
   "cell_type": "markdown",
   "id": "0ecb5930",
   "metadata": {},
   "source": [
    "## 1.What are the two values of the Boolean data type? How do you write them?\n",
    "### Ans :\n",
    "###  1. The two values of the Boolean data type are true and false. They are written as such: True and False.\n",
    "###  Ex. a = True type(a)\n",
    "### b = False type(b)"
   ]
  },
  {
   "cell_type": "markdown",
   "id": "9fd73564",
   "metadata": {},
   "source": [
    "## 2. What are the three different types of Boolean operators?\n",
    "### Ans :\n",
    "### 1. The two values of the Boolean data type are true and false. They are written as such: True and False.\n",
    "###  Ex. a = True type(a)\n",
    "### b = False type(b)"
   ]
  },
  {
   "cell_type": "markdown",
   "id": "2ea0c619",
   "metadata": {},
   "source": [
    "# 3. Make a list of each Boolean operator's truth tables (i.e. every possible combination of Boolean values for the operator and what it evaluate ).\n",
    "\n",
    "### Ans :\n",
    "True and True is True.\n",
    "\n",
    "True and False is False.\n",
    "\n",
    "False and True is False.\n",
    "\n",
    "False and False is False.\n",
    "\n",
    "True or True is True.\n",
    "\n",
    "True or False is True.\n",
    "\n",
    "False or True is True.\n",
    "\n",
    "False or False is False.\n",
    "\n",
    "not True is False.\n",
    "\n",
    "not False is True."
   ]
  },
  {
   "cell_type": "markdown",
   "id": "5f1fb84e",
   "metadata": {},
   "source": [
    "## 4. What are the values of the following expressions?\n",
    "(5 > 4) and (3 == 5)\n",
    "not (5 > 4)\n",
    "(5 > 4) or (3 == 5)\n",
    "not ((5 > 4) or (3 == 5))\n",
    "(True and True) and (True == False)\n",
    "(not False) or (not True)\n",
    "\n",
    "### Ans :\n"
   ]
  },
  {
   "cell_type": "code",
   "execution_count": 15,
   "id": "f6e5c04b",
   "metadata": {},
   "outputs": [
    {
     "data": {
      "text/plain": [
       "False"
      ]
     },
     "execution_count": 15,
     "metadata": {},
     "output_type": "execute_result"
    }
   ],
   "source": [
    "(5 > 4) and (3 == 5)"
   ]
  },
  {
   "cell_type": "code",
   "execution_count": 17,
   "id": "44561aa0",
   "metadata": {},
   "outputs": [
    {
     "data": {
      "text/plain": [
       "False"
      ]
     },
     "execution_count": 17,
     "metadata": {},
     "output_type": "execute_result"
    }
   ],
   "source": [
    " not (5 > 4) "
   ]
  },
  {
   "cell_type": "code",
   "execution_count": 18,
   "id": "87b5cfc7",
   "metadata": {},
   "outputs": [
    {
     "data": {
      "text/plain": [
       "True"
      ]
     },
     "execution_count": 18,
     "metadata": {},
     "output_type": "execute_result"
    }
   ],
   "source": [
    " (5 > 4) or (3 == 5)"
   ]
  },
  {
   "cell_type": "code",
   "execution_count": 19,
   "id": "e58eec77",
   "metadata": {},
   "outputs": [
    {
     "data": {
      "text/plain": [
       "False"
      ]
     },
     "execution_count": 19,
     "metadata": {},
     "output_type": "execute_result"
    }
   ],
   "source": [
    "not ((5 > 4) or (3 == 5))"
   ]
  },
  {
   "cell_type": "code",
   "execution_count": 21,
   "id": "28528f90",
   "metadata": {},
   "outputs": [
    {
     "data": {
      "text/plain": [
       "False"
      ]
     },
     "execution_count": 21,
     "metadata": {},
     "output_type": "execute_result"
    }
   ],
   "source": [
    "(True and True) and (True == False) "
   ]
  },
  {
   "cell_type": "code",
   "execution_count": 22,
   "id": "fc0530d9",
   "metadata": {},
   "outputs": [
    {
     "data": {
      "text/plain": [
       "True"
      ]
     },
     "execution_count": 22,
     "metadata": {},
     "output_type": "execute_result"
    }
   ],
   "source": [
    "(not False) or (not True)"
   ]
  },
  {
   "cell_type": "markdown",
   "id": "5c86e677",
   "metadata": {},
   "source": [
    "## 5. What are the six comparison operators?\n",
    "### ANS :\n",
    "\n",
    "==, !=, <, >, <=, and >=."
   ]
  },
  {
   "cell_type": "markdown",
   "id": "404efa88",
   "metadata": {},
   "source": [
    "## 6. How do you tell the difference between the equal to and assignment operators?Describe a condition and when you would use one.\n",
    "###  Ans :\n",
    "\n",
    "== is the equal to operator that compares two values and evaluates to a Boolean, while = is the assignment operator that stores a value in a variable.\n",
    "\n",
    "For example:-\n",
    "\n",
    "x=10 y=20 z=20\n",
    "\n",
    "(x==y) is False because we assigned different values to x and y.\n",
    "\n",
    "(y==z) is True because we assign equal values to y and z.\n",
    "\n",
    "A condition is an expression used in a flow control statement that evaluates to a Boolean value."
   ]
  },
  {
   "cell_type": "markdown",
   "id": "d56901d5",
   "metadata": {},
   "source": [
    " ## 7. Identify the three blocks in this code:\n",
    " ### Ans :\n",
    "spam = 0 if spam == 10: print('eggs') if spam > 5: print('bacon') else: print('ham') print('spam') print('spam')\n",
    "\n",
    "The three blocks are everything inside the if statement and the lines print('bacon') and print('ham').\n",
    "\n",
    "print('eggs') if spam > 5: print('bacon') else: print('ham') print('spam')"
   ]
  },
  {
   "cell_type": "markdown",
   "id": "ead053b0",
   "metadata": {},
   "source": [
    "##  8. Write code that prints Hello if 1 is stored in spam, prints Howdy if 2 is stored in spam, and prints Greetings! if anything else is stored in spam.\n",
    "### Ans :\n",
    "The code:\n",
    "\n",
    "if spam == 1: print('Hello') elif spam == 2: print('Howdy') else: print('Greetings!')"
   ]
  },
  {
   "cell_type": "markdown",
   "id": "648c2484",
   "metadata": {},
   "source": [
    "### 9.If your programme is stuck in an endless loop, what keys you’ll press?\n",
    "\n",
    "### Ans :\n",
    "Press CTRL+C to stop a program stuck in an infinite loop.\n",
    "\n"
   ]
  },
  {
   "cell_type": "markdown",
   "id": "40a7fabe",
   "metadata": {},
   "source": [
    "### 10. How can you tell the difference between break and continue?\n",
    "### Ans :\n",
    "a)The break statement will move the execution outside and just after a loop. The continue statement will move the execution to the start of the loop.\n",
    "\n",
    "b)whenever break statement executed then else block will not be executed whereas In continue ,all the time else block is executed"
   ]
  },
  {
   "cell_type": "markdown",
   "id": "71b4319f",
   "metadata": {},
   "source": [
    "## 11. In a for loop, what is the difference between range(10), range(0, 10), and range(0, 10, 1)?\n",
    "### Ans:\n",
    "They all do the same thing. The range(10) call ranges from 0 up to (but not including) 10, range(0, 10) explicitly tells the loop to start at 0, and range(0, 10, 1) explicitly tells the loop to increase the variable by 1 on each iteration."
   ]
  },
  {
   "cell_type": "markdown",
   "id": "a6abd9bb",
   "metadata": {},
   "source": [
    "##  12. Write a short program that prints the numbers 1 to 10 using a for loop. Then write an equivalent program that prints the numbers 1 to 10 using a while loop.\n",
    "### Ans :\n"
   ]
  },
  {
   "cell_type": "code",
   "execution_count": 8,
   "id": "327dfc66",
   "metadata": {},
   "outputs": [
    {
     "name": "stdout",
     "output_type": "stream",
     "text": [
      "1\n",
      "2\n",
      "3\n",
      "4\n",
      "5\n",
      "6\n",
      "7\n",
      "8\n",
      "9\n",
      "10\n"
     ]
    }
   ],
   "source": [
    "for i in range(1,11):\n",
    "    print(i)"
   ]
  },
  {
   "cell_type": "code",
   "execution_count": 14,
   "id": "7ba6ada6",
   "metadata": {},
   "outputs": [
    {
     "name": "stdout",
     "output_type": "stream",
     "text": [
      "1\n",
      "2\n",
      "3\n",
      "4\n",
      "5\n",
      "6\n",
      "7\n",
      "8\n",
      "9\n",
      "10\n"
     ]
    }
   ],
   "source": [
    "a = 1\n",
    "while a <= 10 :\n",
    "    print(a)\n",
    "    a = a+1"
   ]
  },
  {
   "cell_type": "markdown",
   "id": "953f603f",
   "metadata": {},
   "source": [
    "## 13. If you had a function named bacon() inside a module named spam, how would you call it after importing spam?\n",
    "### Ans :\n",
    "\n",
    "This function can be called with spam.bacon()."
   ]
  },
  {
   "cell_type": "code",
   "execution_count": null,
   "id": "0b9a43e5",
   "metadata": {},
   "outputs": [],
   "source": []
  }
 ],
 "metadata": {
  "kernelspec": {
   "display_name": "Python 3 (ipykernel)",
   "language": "python",
   "name": "python3"
  },
  "language_info": {
   "codemirror_mode": {
    "name": "ipython",
    "version": 3
   },
   "file_extension": ".py",
   "mimetype": "text/x-python",
   "name": "python",
   "nbconvert_exporter": "python",
   "pygments_lexer": "ipython3",
   "version": "3.9.13"
  }
 },
 "nbformat": 4,
 "nbformat_minor": 5
}
