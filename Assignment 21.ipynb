{
 "cells": [
  {
   "cell_type": "markdown",
   "id": "6558f41c",
   "metadata": {},
   "source": [
    "## 1. Add the current date to the text file today.txt as a string."
   ]
  },
  {
   "cell_type": "code",
   "execution_count": 1,
   "id": "967f4864",
   "metadata": {},
   "outputs": [],
   "source": [
    "from datetime import date"
   ]
  },
  {
   "cell_type": "code",
   "execution_count": 4,
   "id": "274dbe9b",
   "metadata": {},
   "outputs": [],
   "source": [
    " now = date.today()"
   ]
  },
  {
   "cell_type": "code",
   "execution_count": 5,
   "id": "55c02a38",
   "metadata": {},
   "outputs": [],
   "source": [
    "now_str = now.isoformat()"
   ]
  },
  {
   "cell_type": "code",
   "execution_count": 6,
   "id": "d9a215df",
   "metadata": {},
   "outputs": [],
   "source": [
    "with open('today' , 'w') as output:\n",
    "    print(now_str , file=output)"
   ]
  },
  {
   "cell_type": "markdown",
   "id": "f9d3e0ea",
   "metadata": {},
   "source": [
    "## 2. Read the text file today.txt into the string today_string"
   ]
  },
  {
   "cell_type": "code",
   "execution_count": 7,
   "id": "0ddd0a20",
   "metadata": {},
   "outputs": [],
   "source": [
    "with open('today' , 'r') as r:\n",
    "    read = r.read()"
   ]
  },
  {
   "cell_type": "code",
   "execution_count": 8,
   "id": "75ab4f45",
   "metadata": {},
   "outputs": [
    {
     "data": {
      "text/plain": [
       "'2023-07-27\\n'"
      ]
     },
     "execution_count": 8,
     "metadata": {},
     "output_type": "execute_result"
    }
   ],
   "source": [
    "read"
   ]
  },
  {
   "cell_type": "markdown",
   "id": "7305a87f",
   "metadata": {},
   "source": [
    "## 3. Parse the date from today_string."
   ]
  },
  {
   "cell_type": "code",
   "execution_count": 18,
   "id": "61d8d583",
   "metadata": {},
   "outputs": [],
   "source": [
    "fmt = '%Y-%m-%d\\n'"
   ]
  },
  {
   "cell_type": "markdown",
   "id": "1e153b32",
   "metadata": {},
   "source": [
    "## 4. List the files in your current directory"
   ]
  },
  {
   "cell_type": "code",
   "execution_count": 13,
   "id": "fb41dae5",
   "metadata": {},
   "outputs": [],
   "source": [
    "import os"
   ]
  },
  {
   "cell_type": "code",
   "execution_count": 15,
   "id": "48a60d07",
   "metadata": {},
   "outputs": [
    {
     "data": {
      "text/plain": [
       "[' Assignment 2.ipynb',\n",
       " '.ipynb_checkpoints',\n",
       " 'Assignment 10.ipynb',\n",
       " 'Assignment 11.ipynb',\n",
       " 'Assignment 12.ipynb',\n",
       " 'Assignment 13.ipynb',\n",
       " 'Assignment 14.ipynb',\n",
       " 'Assignment 15.ipynb',\n",
       " 'Assignment 16.ipynb',\n",
       " 'Assignment 17.ipynb',\n",
       " 'Assignment 18.ipynb',\n",
       " 'Assignment 19.ipynb',\n",
       " 'Assignment 20.ipynb',\n",
       " 'Assignment 21.ipynb',\n",
       " 'Assignment 3.ipynb',\n",
       " 'Assignment 4.ipynb',\n",
       " 'Assignment 5.ipynb',\n",
       " 'Assignment 6.ipynb',\n",
       " 'Assignment 7.ipynb',\n",
       " 'Assignment 8.ipynb',\n",
       " 'Assinment 9.ipynb',\n",
       " 'books.db',\n",
       " 'test.text',\n",
       " 'today',\n",
       " 'zoo.py',\n",
       " '__pycache__']"
      ]
     },
     "execution_count": 15,
     "metadata": {},
     "output_type": "execute_result"
    }
   ],
   "source": [
    "os.listdir()"
   ]
  },
  {
   "cell_type": "markdown",
   "id": "c46d6b87",
   "metadata": {},
   "source": [
    "## 5. Create a list of all of the files in your parent directory (minimum five files should be available)."
   ]
  },
  {
   "cell_type": "code",
   "execution_count": 20,
   "id": "40c05fcc",
   "metadata": {},
   "outputs": [
    {
     "data": {
      "text/plain": [
       "['.ipynb_checkpoints',\n",
       " 'Asssignment Folder',\n",
       " 'data base with mongodp',\n",
       " 'File handling',\n",
       " 'Flask',\n",
       " 'for  while loop practice.ipynb',\n",
       " 'Function.ipynb',\n",
       " 'generator.ipynb',\n",
       " 'if else .ipynb',\n",
       " 'lambda.ipynb',\n",
       " 'OPPS .ipynb',\n",
       " 'OPPS 1.ipynb',\n",
       " 'web scraping',\n",
       " 'Web Scraping.ipynb',\n",
       " 'While.ipynb']"
      ]
     },
     "execution_count": 20,
     "metadata": {},
     "output_type": "execute_result"
    }
   ],
   "source": [
    "os.listdir('..')"
   ]
  },
  {
   "cell_type": "markdown",
   "id": "0b6592de",
   "metadata": {},
   "source": [
    "## 6. Use multiprocessing to create three separate processes. Make each one wait a random number of seconds between one and five, print the current time, and then exit.\n",
    "import multiprocessing\n",
    "\n",
    "\n",
    "def now(seconds): from datetime import datetime from time import sleep sleep(seconds) print('wait', seconds, 'seconds, time is', \n",
    "\n",
    "datetime.utcnow())\n",
    "\n",
    "\n",
    "if name == 'main': import random for n in range(3): seconds = random.random() proc = multiprocessing.Process(target=now, args=\n",
    "\n",
    "(seconds,)) proc.start()"
   ]
  },
  {
   "cell_type": "code",
   "execution_count": 29,
   "id": "580ac335",
   "metadata": {},
   "outputs": [],
   "source": [
    "my_date = date(2001,5,6)"
   ]
  },
  {
   "cell_type": "code",
   "execution_count": 30,
   "id": "643840f9",
   "metadata": {},
   "outputs": [
    {
     "data": {
      "text/plain": [
       "datetime.date(2001, 5, 6)"
      ]
     },
     "execution_count": 30,
     "metadata": {},
     "output_type": "execute_result"
    }
   ],
   "source": [
    "my_date"
   ]
  },
  {
   "cell_type": "markdown",
   "id": "67e6a2ec",
   "metadata": {},
   "source": [
    "## 8. What day of the week was your day of birth?"
   ]
  },
  {
   "cell_type": "code",
   "execution_count": 31,
   "id": "58578cb3",
   "metadata": {},
   "outputs": [
    {
     "data": {
      "text/plain": [
       "6"
      ]
     },
     "execution_count": 31,
     "metadata": {},
     "output_type": "execute_result"
    }
   ],
   "source": [
    "my_date.weekday()"
   ]
  },
  {
   "cell_type": "code",
   "execution_count": 32,
   "id": "8e866790",
   "metadata": {},
   "outputs": [
    {
     "data": {
      "text/plain": [
       "7"
      ]
     },
     "execution_count": 32,
     "metadata": {},
     "output_type": "execute_result"
    }
   ],
   "source": [
    "my_date.isoweekday()"
   ]
  },
  {
   "cell_type": "markdown",
   "id": "12ce16f8",
   "metadata": {},
   "source": [
    "## 9. When will you be (or when were you) 10,000 days old?"
   ]
  },
  {
   "cell_type": "code",
   "execution_count": 33,
   "id": "5ed07ac0",
   "metadata": {},
   "outputs": [],
   "source": [
    "from datetime import timedelta"
   ]
  },
  {
   "cell_type": "code",
   "execution_count": 36,
   "id": "f22f2b07",
   "metadata": {},
   "outputs": [],
   "source": [
    "day = my_date + timedelta(days=10000)"
   ]
  },
  {
   "cell_type": "code",
   "execution_count": 37,
   "id": "0ff6e3c9",
   "metadata": {},
   "outputs": [
    {
     "data": {
      "text/plain": [
       "datetime.date(2028, 9, 21)"
      ]
     },
     "execution_count": 37,
     "metadata": {},
     "output_type": "execute_result"
    }
   ],
   "source": [
    "day"
   ]
  },
  {
   "cell_type": "code",
   "execution_count": null,
   "id": "4e51818e",
   "metadata": {},
   "outputs": [],
   "source": []
  }
 ],
 "metadata": {
  "kernelspec": {
   "display_name": "Python 3 (ipykernel)",
   "language": "python",
   "name": "python3"
  },
  "language_info": {
   "codemirror_mode": {
    "name": "ipython",
    "version": 3
   },
   "file_extension": ".py",
   "mimetype": "text/x-python",
   "name": "python",
   "nbconvert_exporter": "python",
   "pygments_lexer": "ipython3",
   "version": "3.9.13"
  }
 },
 "nbformat": 4,
 "nbformat_minor": 5
}
