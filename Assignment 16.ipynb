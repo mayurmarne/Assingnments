{
 "cells": [
  {
   "cell_type": "markdown",
   "id": "39e6e3f5",
   "metadata": {},
   "source": [
    "## 1. Create a list called years_list, starting with the year of your birth, and each year thereafter until\n",
    "the year of your fifth birthday. For example, if you were born in 1980. the list would be years_list =\n",
    "[1980, 1981, 1982, 1983, 1984, 1985].\n",
    "### Ans:\n"
   ]
  },
  {
   "cell_type": "code",
   "execution_count": 2,
   "id": "558a3fd6",
   "metadata": {},
   "outputs": [
    {
     "data": {
      "text/plain": [
       "[2001, 2002, 2003, 2004, 2005]"
      ]
     },
     "execution_count": 2,
     "metadata": {},
     "output_type": "execute_result"
    }
   ],
   "source": [
    "years_list = [2001,2002,2003,2004,2005]\n",
    "years_list"
   ]
  },
  {
   "cell_type": "markdown",
   "id": "9a4b2688",
   "metadata": {},
   "source": [
    "## 2. In which year in years_list was your third birthday? Remember, you were 0 years of age for your first year.\n",
    "### Ans:"
   ]
  },
  {
   "cell_type": "code",
   "execution_count": 3,
   "id": "1d839a29",
   "metadata": {},
   "outputs": [
    {
     "data": {
      "text/plain": [
       "2004"
      ]
     },
     "execution_count": 3,
     "metadata": {},
     "output_type": "execute_result"
    }
   ],
   "source": [
    "years_list[3]"
   ]
  },
  {
   "cell_type": "markdown",
   "id": "087fcc89",
   "metadata": {},
   "source": [
    "## 3.In the years list, which year were you the oldest?"
   ]
  },
  {
   "cell_type": "code",
   "execution_count": 4,
   "id": "a8a14f1f",
   "metadata": {},
   "outputs": [
    {
     "data": {
      "text/plain": [
       "2005"
      ]
     },
     "execution_count": 4,
     "metadata": {},
     "output_type": "execute_result"
    }
   ],
   "source": [
    "years_list[4]"
   ]
  },
  {
   "cell_type": "markdown",
   "id": "4c265c93",
   "metadata": {},
   "source": [
    "## 4. Make a list called things with these three strings as elements: \"mozzarella\", \"cinderella\", \"salmonella\".\n",
    "### Ans:"
   ]
  },
  {
   "cell_type": "code",
   "execution_count": 6,
   "id": "7b459771",
   "metadata": {},
   "outputs": [
    {
     "data": {
      "text/plain": [
       "['mozzarella', 'cinderella', 'salmonella']"
      ]
     },
     "execution_count": 6,
     "metadata": {},
     "output_type": "execute_result"
    }
   ],
   "source": [
    "things = [\"mozzarella\", \"cinderella\", \"salmonella\"]\n",
    "things"
   ]
  },
  {
   "cell_type": "markdown",
   "id": "24981029",
   "metadata": {},
   "source": [
    "## 5. Capitalize the element in things that refers to a person and then print the list. Did it change the element in the list?\n",
    "### Ans:"
   ]
  },
  {
   "cell_type": "code",
   "execution_count": 8,
   "id": "cad40a4e",
   "metadata": {},
   "outputs": [
    {
     "data": {
      "text/plain": [
       "'Cinderella'"
      ]
     },
     "execution_count": 8,
     "metadata": {},
     "output_type": "execute_result"
    }
   ],
   "source": [
    "things[1].capitalize()"
   ]
  },
  {
   "cell_type": "markdown",
   "id": "0303b35b",
   "metadata": {},
   "source": [
    "## 6. Make a surprise list with the elements \"Groucho,\" \"Chico,\" and \"Harpo.\"\n",
    "### Ans:"
   ]
  },
  {
   "cell_type": "code",
   "execution_count": 13,
   "id": "3e445a3a",
   "metadata": {},
   "outputs": [
    {
     "data": {
      "text/plain": [
       "['Groucho', 'Chico', 'Harpo.']"
      ]
     },
     "execution_count": 13,
     "metadata": {},
     "output_type": "execute_result"
    }
   ],
   "source": [
    "surprise =[\"Groucho\", \"Chico\",  \"Harpo.\"]\n",
    "surprise"
   ]
  },
  {
   "cell_type": "code",
   "execution_count": 14,
   "id": "0c6e0d6d",
   "metadata": {},
   "outputs": [
    {
     "data": {
      "text/plain": [
       "'.oprah'"
      ]
     },
     "execution_count": 14,
     "metadata": {},
     "output_type": "execute_result"
    }
   ],
   "source": [
    "surprise[-1] = surprise[-1].lower()\n",
    "surprise[-1] = surprise[-1][::-1]\n",
    "surprise[-1].capitalize()"
   ]
  },
  {
   "cell_type": "markdown",
   "id": "ffafb3dd",
   "metadata": {},
   "source": [
    "## 8. Make an English-to-French dictionary called e2f and print it. Here are your starter words: dog is chien, cat is chat, and walrus is morse.\n",
    "### Ans:"
   ]
  },
  {
   "cell_type": "code",
   "execution_count": 16,
   "id": "67fd6145",
   "metadata": {},
   "outputs": [
    {
     "data": {
      "text/plain": [
       "{'dog': 'chien', 'cat': 'chat', 'walrus': 'morse'}"
      ]
     },
     "execution_count": 16,
     "metadata": {},
     "output_type": "execute_result"
    }
   ],
   "source": [
    "e2f = {'dog': 'chien', 'cat': 'chat', 'walrus': 'morse'}\n",
    "e2f"
   ]
  },
  {
   "cell_type": "markdown",
   "id": "871f9a2a",
   "metadata": {},
   "source": [
    "## 9. Write the French word for walrus in your three-word dictionary e2f.\n",
    "### Ans:"
   ]
  },
  {
   "cell_type": "code",
   "execution_count": 19,
   "id": "5b0fc717",
   "metadata": {},
   "outputs": [
    {
     "data": {
      "text/plain": [
       "'morse'"
      ]
     },
     "execution_count": 19,
     "metadata": {},
     "output_type": "execute_result"
    }
   ],
   "source": [
    "e2f['walrus']"
   ]
  },
  {
   "cell_type": "code",
   "execution_count": 20,
   "id": "e04b7370",
   "metadata": {},
   "outputs": [],
   "source": [
    "f2e = {}\n",
    "for english, french in e2f.items():\n",
    "    f2e[french] = english"
   ]
  },
  {
   "cell_type": "code",
   "execution_count": 21,
   "id": "d0925745",
   "metadata": {},
   "outputs": [
    {
     "data": {
      "text/plain": [
       "{'chien': 'dog', 'chat': 'cat', 'morse': 'walrus'}"
      ]
     },
     "execution_count": 21,
     "metadata": {},
     "output_type": "execute_result"
    }
   ],
   "source": [
    "f2e"
   ]
  },
  {
   "cell_type": "markdown",
   "id": "869a36d2",
   "metadata": {},
   "source": [
    "## 11. Print the English version of the French word chien using f2e.\n",
    "### Ans:"
   ]
  },
  {
   "cell_type": "code",
   "execution_count": 22,
   "id": "398c48e0",
   "metadata": {},
   "outputs": [
    {
     "data": {
      "text/plain": [
       "'dog'"
      ]
     },
     "execution_count": 22,
     "metadata": {},
     "output_type": "execute_result"
    }
   ],
   "source": [
    "f2e['chien']"
   ]
  },
  {
   "cell_type": "markdown",
   "id": "41ce8ec9",
   "metadata": {},
   "source": [
    "## 12. Make and print a set of English words from the keys in e2f.\n",
    "### Ans:"
   ]
  },
  {
   "cell_type": "code",
   "execution_count": 33,
   "id": "3b8e24c6",
   "metadata": {},
   "outputs": [
    {
     "data": {
      "text/plain": [
       "{'cat', 'dog', 'walrus'}"
      ]
     },
     "execution_count": 33,
     "metadata": {},
     "output_type": "execute_result"
    }
   ],
   "source": [
    "set(e2f.keys())"
   ]
  },
  {
   "cell_type": "markdown",
   "id": "e488d6a4",
   "metadata": {},
   "source": [
    "## 13. Make a multilevel dictionary called life. Use these strings for the topmost keys: 'animals', 'plants', and 'other'. Make the 'animals' key refer to another dictionary with the keys 'cats', 'octopi', and 'emus'. Make the 'cats' key refer to a list of strings with the values 'Henri', 'Grumpy', and 'Lucy'. Make all the other keys refer to empty dictionaries.\n",
    "### Ans:"
   ]
  },
  {
   "cell_type": "code",
   "execution_count": 34,
   "id": "f0308047",
   "metadata": {},
   "outputs": [],
   "source": [
    "life = {\n",
    "        'animals': {\n",
    "            'cats': [\n",
    "                'Henri', 'Grumpy', 'Lucy'\n",
    "                ],\n",
    "            'octopi': {},\n",
    "            'emus': {}\n",
    "            },\n",
    "        'plants': {},\n",
    "        'other': {}\n",
    "        }"
   ]
  },
  {
   "cell_type": "code",
   "execution_count": null,
   "id": "c7ff2ff4",
   "metadata": {},
   "outputs": [],
   "source": []
  }
 ],
 "metadata": {
  "kernelspec": {
   "display_name": "Python 3 (ipykernel)",
   "language": "python",
   "name": "python3"
  },
  "language_info": {
   "codemirror_mode": {
    "name": "ipython",
    "version": 3
   },
   "file_extension": ".py",
   "mimetype": "text/x-python",
   "name": "python",
   "nbconvert_exporter": "python",
   "pygments_lexer": "ipython3",
   "version": "3.9.13"
  }
 },
 "nbformat": 4,
 "nbformat_minor": 5
}
