{
 "cells": [
  {
   "cell_type": "markdown",
   "id": "06c23696",
   "metadata": {},
   "source": [
    "## 1. To what does a relative path refer?\n",
    "### Ans:\n",
    "The relative path is the path of a file with respect to your current working directory (PWD).\n",
    "\n",
    "## 2. What does an absolute path start with your operating system?\n",
    "### An absolute path contains the full set of directories from the root of the file system up to your target file or directory. An absolute path start with the root folder, such as / or C:.\n",
    "\n",
    "## 3. What do the functions os.getcwd() and os.chdir() do?\n",
    "### Ans :\n",
    "getcwd stands for \"get current working directory\". os.getcwd() returns the absolute path of the working directory where Python is currently running as a string str . chdir stabds of \"change directory\". os.chdir() method in Python used to change the current working directory to specified path. It takes only a single argument as new directory path.\n",
    "\n",
    "## 4. What are the . and .. folders?\n",
    "### Ans:\n",
    "The . is the current directory, while .. signifies the parent directory.\n",
    "\n",
    "## 5. In C:\\bacon\\eggs\\spam.txt, which part is the dir name, and which part is the base name?\n",
    "### Ans:\n",
    "The basename is the final rightmost segment of the file path . In the above path base name is spam.txt. os.path.basename() can be used to extract base name from the path. dir name is th folder name in which file exists. In the above path dir name is C:\\bacon\\eggs . os.path.dirname() can be used to extract dir name form path."
   ]
  },
  {
   "cell_type": "markdown",
   "id": "5d5a740f",
   "metadata": {},
   "source": [
    "## 6. What are the three “mode” arguments that can be passed to the open() function?\n",
    " ## Ans :\n",
    " The string 'r' for read mode, 'w' for write mode, and 'a' for append mode.\n",
    "\n",
    "### 7. What happens if an existing file is opened in write mode?\n",
    "### Ans:\n",
    "An existing file opened in write mode is erased and completely overwritten.\n",
    "\n",
    "## 8. How do you tell the difference between read() and readlines()?\n",
    "### Ans :\n",
    "The read() method returns the file’s entire contents as a single string value. The readlines() method returns a list of strings, where each string is a line from the file’s contents.\n",
    "\n",
    "## 9. What data structure does a shelf value resemble?\n",
    "### Ans:\n",
    "shelf value resembles a dictionary value; it has keys and values, along with keys() and values() methods that work similarly to the dictionary methods of the same names."
   ]
  },
  {
   "cell_type": "code",
   "execution_count": null,
   "id": "c67f3d2e",
   "metadata": {},
   "outputs": [],
   "source": []
  }
 ],
 "metadata": {
  "kernelspec": {
   "display_name": "Python 3 (ipykernel)",
   "language": "python",
   "name": "python3"
  },
  "language_info": {
   "codemirror_mode": {
    "name": "ipython",
    "version": 3
   },
   "file_extension": ".py",
   "mimetype": "text/x-python",
   "name": "python",
   "nbconvert_exporter": "python",
   "pygments_lexer": "ipython3",
   "version": "3.9.13"
  }
 },
 "nbformat": 4,
 "nbformat_minor": 5
}
