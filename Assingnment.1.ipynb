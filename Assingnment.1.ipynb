{
 "cells": [
  {
   "cell_type": "markdown",
   "id": "97bbbfc1",
   "metadata": {},
   "source": [
    "# 1. In the below elements which of them are values or an expression? eg:- values can be integer or string and expressions will be mathematical operators.\n",
    "\n",
    "*\n",
    "\n",
    "'hello'\n",
    "\n",
    "-87.8\n",
    "\n",
    " -\n",
    "\n",
    " \n",
    "\n",
    " /\n",
    "\n",
    " \n",
    "\n",
    " +\n",
    "\n",
    " \n",
    "\n",
    " 6\n",
    "\n",
    "## Ans :-\n",
    "\n",
    "Values | Expressions \n",
    "- | -\n",
    "'hello' | *\n",
    "-87.8 | -\n",
    "6    | /\n",
    "  | +"
   ]
  },
  {
   "cell_type": "markdown",
   "id": "bfcb2f84",
   "metadata": {},
   "source": [
    "# 2. What is the difference between string and variable?\n",
    "\n",
    "## Ans :-\n",
    "\n",
    "## 1) A Variable is a store of information, and a String is a type of information you would store in a Variable.\n",
    "\n",
    "## 2) All strings are variables, but not all variables are strings.\n",
    "\n",
    "## 3) A variable can hold a string, but a string can't hold a variable.\n",
    "\n",
    "## 4) A Variable is a store of information, and a String is a type of information you would store in a Variable. A String is usually words, enclosed with \"\"\n",
    "\n",
    "        eg. Variable is my_var= 3 or “hello\"\n",
    "\n",
    "            string is my_var= “my name is terry\"\n"
   ]
  },
  {
   "cell_type": "markdown",
   "id": "12c34dbf",
   "metadata": {},
   "source": [
    "# 3. Describe three different data types.\n",
    "\n",
    "## Ans :-\n",
    "\n",
    "## 1. Numeric data type : in Python, numeric data type is used to hold numeric values.\n",
    "\n",
    "## Integers, floating-point numbers and complex numbers fall under Python numbers category. They are defined as int, float and complex classes in Python.\n",
    "\n",
    "                         int - holds signed integers of non-limited length.\n",
    "\n",
    "                         float - holds floating decimal points and it's accurate up to 15 decimal places.\n",
    "\n",
    "                         complex - holds complex numbers.\n",
    "\n",
    "## 2 . List data type : it is an ordered collection of similar or different types of items separated by commas and enclosed within brackets [ ]. For example,\n",
    "\n",
    "                        languages = [\"c++\", \"Java\", \"Python\"]\n",
    "\n",
    "## 3 .String data type : it is a sequence of characters represented by either single or double quotes. For example,\n",
    "\n",
    "                        name = 'Python'\n"
   ]
  },
  {
   "cell_type": "markdown",
   "id": "9a8566c9",
   "metadata": {},
   "source": [
    "# 4 .What is an expression made up of? What do all expressions do?\n",
    "\n",
    "## Ans:-\n",
    "\n",
    "## An expression is a combination of values and operators and method invocation , which are construct according to the syntax of language, that evaluates to single value.\n"
   ]
  },
  {
   "cell_type": "markdown",
   "id": "383607bc",
   "metadata": {},
   "source": [
    "# 5. This assignment statements, like spam = 10. What is the difference between an expression and a statement?\n",
    "\n",
    "## Ans :- 1. An expression evaluates to a single value. A statement does not.\n",
    "\n",
    "## 2. Statements represent an action or command e.g print statements, assignment statements.\n",
    "\n",
    "         print 'hello', x = 1, spam = 10.\n",
    "\n",
    "## 3.Expression is a combination of variables, operations and values that yields a result value.\n",
    "\n",
    "          5 * 5 # yields 25"
   ]
  },
  {
   "cell_type": "markdown",
   "id": "2decca8d",
   "metadata": {},
   "source": [
    "# 6.After running the following code, what does the variable bacon contain?\n",
    "\n",
    "  bacon = 22\n",
    "\n",
    "  bacon + 1"
   ]
  },
  {
   "cell_type": "code",
   "execution_count": 5,
   "id": "244ccc0f",
   "metadata": {},
   "outputs": [],
   "source": [
    "bacon = 22\n"
   ]
  },
  {
   "cell_type": "code",
   "execution_count": 8,
   "id": "1161ad09",
   "metadata": {},
   "outputs": [
    {
     "data": {
      "text/plain": [
       "23"
      ]
     },
     "execution_count": 8,
     "metadata": {},
     "output_type": "execute_result"
    }
   ],
   "source": [
    "bacon + 1\n"
   ]
  },
  {
   "cell_type": "code",
   "execution_count": 9,
   "id": "d396a15e",
   "metadata": {},
   "outputs": [
    {
     "name": "stdout",
     "output_type": "stream",
     "text": [
      "22\n"
     ]
    }
   ],
   "source": [
    "\n",
    "print(bacon)"
   ]
  },
  {
   "cell_type": "markdown",
   "id": "6e0e9161",
   "metadata": {},
   "source": [
    "# 7 .What should the values of the following two terms be?\n",
    "\n",
    " 'spam' + 'spamspam'\n",
    "\n",
    " 'spam' * 3'\n"
   ]
  },
  {
   "cell_type": "code",
   "execution_count": 10,
   "id": "12d89a76",
   "metadata": {},
   "outputs": [
    {
     "data": {
      "text/plain": [
       "'spamspamspam'"
      ]
     },
     "execution_count": 10,
     "metadata": {},
     "output_type": "execute_result"
    }
   ],
   "source": [
    "'spam' + 'spamspam'"
   ]
  },
  {
   "cell_type": "code",
   "execution_count": 12,
   "id": "132e5cff",
   "metadata": {},
   "outputs": [
    {
     "data": {
      "text/plain": [
       "'spamspamspam'"
      ]
     },
     "execution_count": 12,
     "metadata": {},
     "output_type": "execute_result"
    }
   ],
   "source": [
    "'spam' * 3"
   ]
  },
  {
   "cell_type": "markdown",
   "id": "0856dbc9",
   "metadata": {},
   "source": [
    "# 8. Why is eggs a valid variable name while 100 is invalid?\n",
    "\n",
    "## Ans :- we can use number as variable but we can't start variable name with number\n"
   ]
  },
  {
   "cell_type": "code",
   "execution_count": null,
   "id": "1ab7e195",
   "metadata": {},
   "outputs": [],
   "source": []
  }
 ],
 "metadata": {
  "kernelspec": {
   "display_name": "Python 3 (ipykernel)",
   "language": "python",
   "name": "python3"
  },
  "language_info": {
   "codemirror_mode": {
    "name": "ipython",
    "version": 3
   },
   "file_extension": ".py",
   "mimetype": "text/x-python",
   "name": "python",
   "nbconvert_exporter": "python",
   "pygments_lexer": "ipython3",
   "version": "3.9.13"
  }
 },
 "nbformat": 4,
 "nbformat_minor": 5
}
