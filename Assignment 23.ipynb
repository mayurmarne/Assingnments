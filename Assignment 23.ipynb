{
 "cells": [
  {
   "cell_type": "markdown",
   "id": "99779cfa",
   "metadata": {},
   "source": [
    "## 1. What is the result of the code, and why?"
   ]
  },
  {
   "cell_type": "code",
   "execution_count": 1,
   "id": "f324c1e2",
   "metadata": {},
   "outputs": [
    {
     "name": "stdout",
     "output_type": "stream",
     "text": [
      "1 2 8\n"
     ]
    }
   ],
   "source": [
    "def func(a, b=6, c=8):\n",
    "    print(a, b, c)\n",
    "func(1, 2)"
   ]
  },
  {
   "cell_type": "markdown",
   "id": "d30f3c5c",
   "metadata": {},
   "source": [
    " we have hardcoded and sent 2 values therefore preference is given to the input user gives. so a=1,b=2,c as by default argument 8."
   ]
  },
  {
   "cell_type": "markdown",
   "id": "f4124a19",
   "metadata": {},
   "source": [
    "## 2. What is the result of this code, and why?\n"
   ]
  },
  {
   "cell_type": "markdown",
   "id": "cb38e718",
   "metadata": {},
   "source": [
    "def func(a, b, c=5):\n",
    "    print(a, b, c)\n",
    "func(1, c=3, b=2)"
   ]
  },
  {
   "cell_type": "markdown",
   "id": "8fd26d3c",
   "metadata": {},
   "source": [
    " here a=1,b=2(hardcoded by user),c=3(hardcoded by user). position doesnt matter as long as we have mentioned the variable to which value is assigned."
   ]
  },
  {
   "cell_type": "markdown",
   "id": "aa159a09",
   "metadata": {},
   "source": [
    "## 3. How about this code: what is its result, and why?"
   ]
  },
  {
   "cell_type": "code",
   "execution_count": 3,
   "id": "a1073fd8",
   "metadata": {},
   "outputs": [
    {
     "name": "stdout",
     "output_type": "stream",
     "text": [
      "1 (2, 3)\n"
     ]
    }
   ],
   "source": [
    "def func(a, *pargs):\n",
    "    print(a, pargs)\n",
    "func(1, 2, 3)"
   ]
  },
  {
   "cell_type": "markdown",
   "id": "813831e3",
   "metadata": {},
   "source": [
    "Here a=1. *pargs returns as many argument user gives as input in form of tuples"
   ]
  },
  {
   "cell_type": "markdown",
   "id": "65123e57",
   "metadata": {},
   "source": [
    "## 4. What does this code print, and why?\n"
   ]
  },
  {
   "cell_type": "code",
   "execution_count": 5,
   "id": "18b80d77",
   "metadata": {},
   "outputs": [
    {
     "name": "stdout",
     "output_type": "stream",
     "text": [
      "1 {'c': 3, 'b': 2}\n"
     ]
    }
   ],
   "source": [
    "def func(a, **kargs):\n",
    "    print(a, kargs)\n",
    "func(a=1, c=3, b=2)"
   ]
  },
  {
   "cell_type": "markdown",
   "id": "24638b21",
   "metadata": {},
   "source": [
    "Here a=1. **kargs returns as many argument user gives as input in form of dictionary"
   ]
  },
  {
   "cell_type": "markdown",
   "id": "26d2fc76",
   "metadata": {},
   "source": [
    "## 5. What gets printed by this, and explain?\n"
   ]
  },
  {
   "cell_type": "code",
   "execution_count": 6,
   "id": "a836cb5c",
   "metadata": {},
   "outputs": [
    {
     "name": "stdout",
     "output_type": "stream",
     "text": [
      "1 5 6 5\n"
     ]
    }
   ],
   "source": [
    "def func(a, b, c=8, d=5):\n",
    "    print(a, b, c, d)\n",
    "func(1, *(5, 6))"
   ]
  },
  {
   "cell_type": "markdown",
   "id": "13aa4e7f",
   "metadata": {},
   "source": [
    "Here a=1. User input is given in the form of kargs. So as many variable is present that many times the value passed as kargs input will get printed.So here a=1,b=5,c=6,d=again 5."
   ]
  },
  {
   "cell_type": "markdown",
   "id": "d627fb82",
   "metadata": {},
   "source": [
    "## 6. what is the result of this, and explain?"
   ]
  },
  {
   "cell_type": "code",
   "execution_count": 11,
   "id": "7e7a3e87",
   "metadata": {},
   "outputs": [],
   "source": [
    "def func(a, b, c):\n",
    "    a = 2; b[0] = 'x'; c['a'] = 'y'"
   ]
  },
  {
   "cell_type": "code",
   "execution_count": 8,
   "id": "02ae5b65",
   "metadata": {},
   "outputs": [],
   "source": [
    "l=1; m=[1]; n={'a':0}"
   ]
  },
  {
   "cell_type": "code",
   "execution_count": 9,
   "id": "47bb5287",
   "metadata": {},
   "outputs": [],
   "source": [
    "func(l, m, n)"
   ]
  },
  {
   "cell_type": "code",
   "execution_count": 10,
   "id": "58f73d8f",
   "metadata": {},
   "outputs": [
    {
     "data": {
      "text/plain": [
       "(1, ['x'], {'a': 'y'})"
      ]
     },
     "execution_count": 10,
     "metadata": {},
     "output_type": "execute_result"
    }
   ],
   "source": [
    "l, m, n"
   ]
  },
  {
   "cell_type": "markdown",
   "id": "ef353a16",
   "metadata": {},
   "source": [
    "def func(a, b, c):\n",
    "    a = 2; b[0] = 'x'; c['a'] = 'y'"
   ]
  },
  {
   "cell_type": "markdown",
   "id": "54a3dbd3",
   "metadata": {},
   "source": [
    "\n",
    "Here in func(l,m,n) we passed l=1(user input), m is passed as list contain 1 element i.e 'x', n is passed as dictionary i.e {'a':'y'}"
   ]
  },
  {
   "cell_type": "code",
   "execution_count": null,
   "id": "22b3dddf",
   "metadata": {},
   "outputs": [],
   "source": []
  }
 ],
 "metadata": {
  "kernelspec": {
   "display_name": "Python 3 (ipykernel)",
   "language": "python",
   "name": "python3"
  },
  "language_info": {
   "codemirror_mode": {
    "name": "ipython",
    "version": 3
   },
   "file_extension": ".py",
   "mimetype": "text/x-python",
   "name": "python",
   "nbconvert_exporter": "python",
   "pygments_lexer": "ipython3",
   "version": "3.9.13"
  }
 },
 "nbformat": 4,
 "nbformat_minor": 5
}
